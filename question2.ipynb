{
 "cells": [
  {
   "cell_type": "markdown",
   "metadata": {},
   "source": [
    "You need to implement Logistic Regression from scratch in this question"
   ]
  },
  {
   "cell_type": "markdown",
   "metadata": {},
   "source": [
    "1. You are provided with the dataset of sign language digits. Implement logistic regression from scratch to classify the images provided in the dataset. Load the dataset and perform splitting into training and test sets with 70:30 ratio randomly using test train split.\n",
    "2. Plot a diagram for the sigmoid function. This is used for binary classi\u0000cation. How do you modify it for multilabel dataset classification problems? State and Explain the methods used.\n",
    "3. Use both one vs all and one vs one method for the above problem statement purpose.\n",
    "4. Also get results using Log Reg from scikit learn.\n",
    "5. Report accuracy score, Confusion matrix and any other metrics you feel useful and Compare the results - from all the three.\n",
    "\n",
    "\n",
    "\n",
    "[BONUS]\n",
    "6. Display few pictures with their predicted and original labels \n",
    "7. Do the results differ? State the reasons why it is so.\n"
   ]
  },
  {
   "cell_type": "markdown",
   "metadata": {},
   "source": [
    "dataset link : \n",
    "https://iiitaphyd-my.sharepoint.com/:f:/g/personal/apurva_jadhav_students_iiit_ac_in/Eictt5_qmoxNqezgQQiMWeIBph4sxlfA6jWAJNPnV2SF9Q?e=mQmYN0 \n",
    "\n",
    "                "
   ]
  },
  {
   "cell_type": "code",
   "execution_count": 72,
   "metadata": {},
   "outputs": [],
   "source": [
    "import pandas as pd\n",
    "import numpy as np\n",
    "from sklearn.model_selection import train_test_split\n",
    "import matplotlib.pyplot as plt\n",
    "from sklearn.metrics import accuracy_score, f1_score,confusion_matrix,r2_score\n",
    "import seaborn as sns"
   ]
  },
  {
   "cell_type": "code",
   "execution_count": 73,
   "metadata": {},
   "outputs": [],
   "source": [
    "x_l = np.load(\"X.npy\") # image\n",
    "y_l = np.load(\"Y.npy\") # label\n"
   ]
  },
  {
   "cell_type": "code",
   "execution_count": 74,
   "metadata": {},
   "outputs": [],
   "source": [
    "x_l = x_l.reshape(2062, -1)"
   ]
  },
  {
   "cell_type": "code",
   "execution_count": 75,
   "metadata": {},
   "outputs": [
    {
     "data": {
      "image/png": "[encoded data removed]",
      "text/plain": [
       "<Figure size 432x288 with 1 Axes>"
      ]
     },
     "metadata": {
      "needs_background": "light"
     },
     "output_type": "display_data"
    }
   ],
   "source": [
    "x = np.linspace(-5, 5, 100) \n",
    "z = 1/(1 + np.exp(-x)) \n",
    "  \n",
    "plt.plot(x, z) \n",
    "plt.xlabel('x') \n",
    "plt.ylabel('Sigmoid(x)')\n",
    "plt.title('Graph of sigmoid')\n",
    "plt.show()"
   ]
  },
  {
   "cell_type": "markdown",
   "metadata": {},
   "source": [
    "### Multiclass classification\n",
    "**Logistic regression** can only be used for two class problems where the output label is binary like a **yes** or **no**, **true** or **false** case. To use Logistic Regression for multiple classes there are two methods that we can use :-\n",
    "1. **One Vs One**: in this method we need to consider $K \\choose 2$ classifiers *(K = number of classes)* one for each pair of classes. To build it we need to extract only those data point *(samples)* belonging to these classes. For testing we need to use all the $K \\choose 2$ classifiers and count the frequencies for each class. Finally we predict the label *(class)* with the maximum frequency.\n",
    "2. **One Vs All**: in this method we need to consider $K$ classifiers one for each class. For each classifier the data belonging to that class is labeled as 1 and everything else as 0, which converts it into a two class *(binary)* problem."
   ]
  },
  {
   "cell_type": "code",
   "execution_count": 76,
   "metadata": {},
   "outputs": [],
   "source": [
    "# Logistic Regression\n",
    "class MyLogisticRegression:\n",
    "    def __init__(self, train_data, Y):\n",
    "        self.data = train_data  # It is assumed that data is normalized and shuffled (rows, cols)\n",
    "        self.Y = Y[:, np.newaxis]\n",
    "        self.b = np.random.randn()\n",
    "        self.cols = self.data.shape[1]\n",
    "        self.rows = self.data.shape[0]\n",
    "        self.weights = np.random.randn(self.cols, 1)  # Initialising weights to 1, shape (cols, 1)\n",
    "        self.num_iterations = 500\n",
    "        self.learning_rate = 0.0001\n",
    "        self.batch_size = 30\n",
    "    \n",
    "    @staticmethod\n",
    "    def sigmoid(x):\n",
    "        return 1/(1 + np.exp(-x))\n",
    "        \n",
    "    def calc_mini_batches(self):\n",
    "        new_data = np.hstack((self.data, self.Y))\n",
    "        np.random.shuffle(new_data)\n",
    "    \n",
    "        rem = self.rows % self.batch_size\n",
    "        num = self.rows // self.batch_size\n",
    "        till = self.batch_size * num\n",
    "        if num > 0:\n",
    "            dd = np.array(np.vsplit(new_data[ :till, :], num))\n",
    "            X_batch = dd[:, :, :-1]\n",
    "            Y_batch = dd[:, :, -1]\n",
    "            \n",
    "        return X_batch, Y_batch\n",
    "\n",
    "    def update_weights(self, X, Y):\n",
    "        Y_predicted = self.predict(X) # Remember that X has data stored along the row for one sample\n",
    "        gradient = np.dot(np.transpose(X), Y_predicted - Y)\n",
    "        self.b = self.b - np.sum(Y_predicted - Y)\n",
    "        self.weights = self.weights - (self.learning_rate * gradient) # vector subtraction\n",
    "    \n",
    "    def print_error(self):\n",
    "        Y_Predicted = self.predict(self.data)\n",
    "        class_one = self.Y == 1\n",
    "        class_two = np.invert(class_one)\n",
    "        val = np.sum(np.log(Y_Predicted[class_one]))\n",
    "        val += np.sum(np.log(1 - Y_Predicted[class_two]))\n",
    "        print(-val)\n",
    "    \n",
    "    def gradient_descent(self):\n",
    "        for j in range(self.num_iterations):\n",
    "            X, Y = self.calc_mini_batches()\n",
    "            num_batches = X.shape[0]\n",
    "            for i in range(num_batches):\n",
    "                self.update_weights(X[i, :, :], Y[i, :][:, np.newaxis])  # update the weights\n",
    "            if (j+1)%100 == 0:\n",
    "                self.print_error()\n",
    "    \n",
    "    def predict(self, X):\n",
    "        # X is 2 dimensional array, samples along the rows\n",
    "        return self.sigmoid(np.dot(X, self.weights) + self.b)"
   ]
  },
  {
   "cell_type": "code",
   "execution_count": 64,
   "metadata": {},
   "outputs": [
    {
     "name": "stdout",
     "output_type": "stream",
     "text": [
      "1165.6003822929379\n",
      "728.3022847219468\n",
      "897.434189968287\n",
      "718.1614823861232\n",
      "541.7357048510157\n",
      "accuracy : 0.8933764135702746\n",
      "f1 score : 0.5875\n",
      "1125.22289014278\n",
      "507.0089105969695\n",
      "389.82620626449386\n",
      "332.15433633560974\n",
      "344.6483942547981\n",
      "accuracy : 0.9079159935379645\n",
      "f1 score : 0.6013986013986015\n",
      "1387.912459129495\n",
      "830.1712256267981\n",
      "678.2564383728258\n",
      "828.8724523414282\n",
      "585.7797020836076\n",
      "accuracy : 0.9159935379644588\n",
      "f1 score : 0.4090909090909091\n",
      "1100.0230808978768\n",
      "1219.198878086387\n",
      "670.2652729785949\n",
      "516.3086532919759\n",
      "462.875285611696\n",
      "accuracy : 0.8723747980613893\n",
      "f1 score : 0.40601503759398494\n"
     ]
    }
   ],
   "source": [
    "log_regressors_ova = []\n",
    "for i in range(4):\n",
    "    mask = y_l[:,i] >= 1.0 - 1e-6\n",
    "    others = np.invert(mask)\n",
    "    x_pos = x_l[mask]\n",
    "    x_neg = x_l[others]\n",
    "    y_pos = [1]*len(x_pos)\n",
    "    y_neg = [0]*len(x_neg)\n",
    "    y_new = y_pos + y_neg\n",
    "    y_new = np.array(y_new)\n",
    "    x_new = np.vstack((x_pos, x_neg))\n",
    "    x_train, x_test, y_train, y_test = train_test_split(x_new, y_new, test_size=0.30, shuffle=True)\n",
    "    reg = MyLogisticRegression(x_train, y_train)\n",
    "    reg.gradient_descent()\n",
    "    y_pred = reg.predict(x_test)\n",
    "    pred = y_pred >= 0.5\n",
    "    pred = pred.astype(int)\n",
    "    print('accuracy : {a}'.format(a=accuracy_score(y_test, pred)))\n",
    "    print('f1 score : {a}'.format(a = f1_score(y_test, pred)))\n",
    "    log_regressors_ova.append(reg)"
   ]
  },
  {
   "cell_type": "code",
   "execution_count": 70,
   "metadata": {},
   "outputs": [
    {
     "name": "stdout",
     "output_type": "stream",
     "text": [
      "accuracy : 0.9644588045234249\n",
      "f1 score : 0.8070175438596492\n",
      "accuracy : 0.9741518578352181\n",
      "f1 score : 0.8596491228070176\n",
      "accuracy : 0.9192245557350566\n",
      "f1 score : 0.5535714285714286\n",
      "accuracy : 0.9353796445880452\n",
      "f1 score : 0.6153846153846153\n"
     ]
    }
   ],
   "source": [
    "from sklearn.linear_model import LogisticRegression\n",
    "for i in range(4):\n",
    "    mask = y_l[:,i] >= 1.0 - 1e-6\n",
    "    others = np.invert(mask)\n",
    "    x_pos = x_l[mask]\n",
    "    x_neg = x_l[others]\n",
    "    y_pos = [1]*(x_pos.shape[0])\n",
    "    y_neg = [0]*(x_neg.shape[0])\n",
    "    y_new = y_pos + y_neg\n",
    "    y_new = np.array(y_new)\n",
    "    x_new = np.vstack((x_pos, x_neg))\n",
    "    x_train, x_test, y_train, y_test = train_test_split(x_new, y_new, test_size=0.30, shuffle=True)\n",
    "    clf = LogisticRegression(random_state=0, max_iter=1000)\n",
    "    clf.fit(x_train, y_train)\n",
    "    pred = clf.predict(x_test)\n",
    "    print('accuracy : {a}'.format(a=accuracy_score(y_test, pred)))\n",
    "    print('f1 score : {a}'.format(a = f1_score(y_test, pred)))\n",
    "    log_regressors_ova.append(reg)"
   ]
  },
  {
   "cell_type": "code",
   "execution_count": 79,
   "metadata": {},
   "outputs": [
    {
     "name": "stdout",
     "output_type": "stream",
     "text": [
      "125.18939498695491\n",
      "72.17231030451674\n",
      "67.88859433188675\n",
      "40.25629449357726\n",
      "42.597256494975284\n",
      "accuracy : 0.943089430894309\n",
      "f1 score : 0.9465648854961831\n",
      "473.81108211519916\n",
      "248.75873266800244\n",
      "243.98164297293656\n",
      "141.059886483292\n",
      "109.35743965364318\n",
      "accuracy : 0.8048780487804879\n",
      "f1 score : 0.8064516129032259\n",
      "367.39995504803807\n",
      "212.59565219221435\n",
      "157.6712682819209\n",
      "128.88749352247106\n",
      "106.63371395983012\n",
      "accuracy : 0.9032258064516129\n",
      "f1 score : 0.9\n"
     ]
    }
   ],
   "source": [
    "log_regressors_ovo = []\n",
    "for i in range(3):\n",
    "    for j in range(i+1,3):\n",
    "        mask1 = (y_l[:, i] >= 1.0 - 1e-6)\n",
    "        mask0 = (y_l[:, j] >= 1.0 - 1e-6)\n",
    "        x_pos = x_l[mask1]\n",
    "        x_neg = x_l[mask0]\n",
    "        y_pos = [1]*(x_pos.shape[0])\n",
    "        y_neg = [0]*(x_neg.shape[0])\n",
    "        y_new = y_pos + y_neg\n",
    "        y_new = np.array(y_new)\n",
    "        x_new = np.vstack((x_pos, x_neg))\n",
    "        x_train, x_test, y_train, y_test = train_test_split(x_new, y_new, test_size=0.30, shuffle=True)\n",
    "        reg = MyLogisticRegression(x_train, y_train)\n",
    "        reg.gradient_descent()\n",
    "        y_pred = reg.predict(x_test)\n",
    "        pred = y_pred >= 0.5\n",
    "        pred = pred.astype(int)\n",
    "        print('accuracy : {a}'.format(a=accuracy_score(y_test, pred)))\n",
    "        print('f1 score : {a}'.format(a = f1_score(y_test, pred)))\n",
    "        log_regressors_ovo.append(reg)"
   ]
  },
  {
   "cell_type": "code",
   "execution_count": null,
   "metadata": {},
   "outputs": [],
   "source": [
    "ind = 0\n",
    "for i in range(3):\n",
    "    for j in range(i+1, 3):\n",
    "        "
   ]
  }
 ],
 "metadata": {
  "kernelspec": {
   "display_name": "Python 3",
   "language": "python",
   "name": "python3"
  },
  "language_info": {
   "codemirror_mode": {
    "name": "ipython",
    "version": 3
   },
   "file_extension": ".py",
   "mimetype": "text/x-python",
   "name": "python",
   "nbconvert_exporter": "python",
   "pygments_lexer": "ipython3",
   "version": "3.9.0"
  }
 },
 "nbformat": 4,
 "nbformat_minor": 4
}
